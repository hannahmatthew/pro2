{
 "cells": [
  {
   "cell_type": "code",
   "execution_count": 2,
   "metadata": {},
   "outputs": [],
   "source": [
    "import pandas as pd\n",
    "\n",
    "# Load the dataset\n",
    "data = pd.read_csv('adult.data.csv')  # Update with your actual data path\n"
   ]
  },
  {
   "cell_type": "code",
   "execution_count": 3,
   "metadata": {},
   "outputs": [
    {
     "name": "stdout",
     "output_type": "stream",
     "text": [
      "race\n",
      "White                 27816\n",
      "Black                  3124\n",
      "Asian-Pac-Islander     1039\n",
      "Amer-Indian-Eskimo      311\n",
      "Other                   271\n",
      "Name: count, dtype: int64\n"
     ]
    }
   ],
   "source": [
    "race_counts = data['race'].value_counts()\n",
    "print(race_counts)"
   ]
  },
  {
   "cell_type": "code",
   "execution_count": 4,
   "metadata": {},
   "outputs": [
    {
     "name": "stdout",
     "output_type": "stream",
     "text": [
      "39.4\n"
     ]
    }
   ],
   "source": [
    "average_age_men = round(data[data['sex'] == 'Male']['age'].mean(), 1)\n",
    "print(average_age_men)"
   ]
  },
  {
   "cell_type": "code",
   "execution_count": 5,
   "metadata": {},
   "outputs": [
    {
     "name": "stdout",
     "output_type": "stream",
     "text": [
      "16.4\n"
     ]
    }
   ],
   "source": [
    "bachelors_count = (data['education'] == 'Bachelors').sum()\n",
    "total_count = data.shape[0]\n",
    "percentage_bachelors = round((bachelors_count / total_count) * 100, 1)\n",
    "print(percentage_bachelors)"
   ]
  },
  {
   "cell_type": "code",
   "execution_count": 6,
   "metadata": {},
   "outputs": [
    {
     "name": "stdout",
     "output_type": "stream",
     "text": [
      "46.5\n"
     ]
    }
   ],
   "source": [
    "advanced_education = data[data['education'].isin(['Bachelors', 'Masters', 'Doctorate'])]\n",
    "percentage_advanced_over_50K = round((advanced_education[advanced_education['salary'] == '>50K'].shape[0] / advanced_education.shape[0]) * 100, 1)\n",
    "print(percentage_advanced_over_50K)"
   ]
  },
  {
   "cell_type": "code",
   "execution_count": 7,
   "metadata": {},
   "outputs": [
    {
     "name": "stdout",
     "output_type": "stream",
     "text": [
      "17.4\n"
     ]
    }
   ],
   "source": [
    "no_advanced_education = data[~data['education'].isin(['Bachelors', 'Masters', 'Doctorate'])]\n",
    "percentage_no_advanced_over_50K = round((no_advanced_education[no_advanced_education['salary'] == '>50K'].shape[0] / no_advanced_education.shape[0]) * 100, 1)\n",
    "print(percentage_no_advanced_over_50K)"
   ]
  },
  {
   "cell_type": "code",
   "execution_count": 9,
   "metadata": {},
   "outputs": [
    {
     "name": "stdout",
     "output_type": "stream",
     "text": [
      "1\n"
     ]
    }
   ],
   "source": [
    "min_hours_per_week = data['hours-per-week'].min()\n",
    "print(min_hours_per_week)"
   ]
  },
  {
   "cell_type": "code",
   "execution_count": 10,
   "metadata": {},
   "outputs": [
    {
     "name": "stdout",
     "output_type": "stream",
     "text": [
      "10.0\n"
     ]
    }
   ],
   "source": [
    "min_hours_earning_over_50K = data[data['hours-per-week'] == min_hours_per_week]\n",
    "percentage_min_hours_over_50K = round((min_hours_earning_over_50K[min_hours_earning_over_50K['salary'] == '>50K'].shape[0] / min_hours_earning_over_50K.shape[0]) * 100, 1)\n",
    "print(percentage_min_hours_over_50K)"
   ]
  },
  {
   "cell_type": "code",
   "execution_count": 11,
   "metadata": {},
   "outputs": [
    {
     "data": {
      "text/plain": [
       "('Iran', 41.9)"
      ]
     },
     "execution_count": 11,
     "metadata": {},
     "output_type": "execute_result"
    }
   ],
   "source": [
    "countries = data['native-country'].unique()\n",
    "highest_percentage_country = None\n",
    "highest_percentage_value = 0\n",
    "\n",
    "for country in countries:\n",
    "    country_data = data[data['native-country'] == country]\n",
    "    percentage_over_50K = (country_data[country_data['salary'] == '>50K'].shape[0] / country_data.shape[0]) * 100\n",
    "    \n",
    "    if percentage_over_50K > highest_percentage_value:\n",
    "        highest_percentage_value = percentage_over_50K\n",
    "        highest_percentage_country = country\n",
    "\n",
    "highest_percentage_country, round(highest_percentage_value, 1)\n"
   ]
  },
  {
   "cell_type": "code",
   "execution_count": 13,
   "metadata": {},
   "outputs": [
    {
     "name": "stdout",
     "output_type": "stream",
     "text": [
      "Prof-specialty\n"
     ]
    }
   ],
   "source": [
    "india_high_income = data[(data['native-country'] == 'India') & (data['salary'] == '>50K')]\n",
    "most_popular_occupation_india = india_high_income['occupation'].mode()[0]\n",
    "print(most_popular_occupation_india)"
   ]
  },
  {
   "cell_type": "code",
   "execution_count": null,
   "metadata": {},
   "outputs": [],
   "source": []
  }
 ],
 "metadata": {
  "kernelspec": {
   "display_name": "Python 3",
   "language": "python",
   "name": "python3"
  },
  "language_info": {
   "codemirror_mode": {
    "name": "ipython",
    "version": 3
   },
   "file_extension": ".py",
   "mimetype": "text/x-python",
   "name": "python",
   "nbconvert_exporter": "python",
   "pygments_lexer": "ipython3",
   "version": "3.10.6"
  }
 },
 "nbformat": 4,
 "nbformat_minor": 2
}
